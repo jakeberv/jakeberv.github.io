{
 "cells": [
  {
   "cell_type": "markdown",
   "metadata": {},
   "source": [
    "# Publications markdown generator for academicpages\n",
    "\n",
    "Takes a TSV of publications with metadata and converts them for use with [academicpages.github.io](academicpages.github.io). This is an interactive Jupyter notebook ([see more info here](http://jupyter-notebook-beginner-guide.readthedocs.io/en/latest/what_is_jupyter.html)). The core python code is also in `publications.py`. Run either from the `markdown_generator` folder after replacing `publications.tsv` with one containing your data.\n",
    "\n",
    "TODO: Make this work with BibTex and other databases of citations, rather than Stuart's non-standard TSV format and citation style.\n"
   ]
  },
  {
   "cell_type": "markdown",
   "metadata": {},
   "source": [
    "## Data format\n",
    "\n",
    "The TSV needs to have the following columns: pub_date, title, venue, excerpt, citation, site_url, and paper_url, with a header at the top. \n",
    "\n",
    "- `excerpt` and `paper_url` can be blank, but the others must have values. \n",
    "- `pub_date` must be formatted as YYYY-MM-DD.\n",
    "- `url_slug` will be the descriptive part of the .md file and the permalink URL for the page about the paper. The .md file will be `YYYY-MM-DD-[url_slug].md` and the permalink will be `https://[yourdomain]/publications/YYYY-MM-DD-[url_slug]`\n",
    "\n",
    "This is how the raw file looks (it doesn't look pretty, use a spreadsheet or other program to edit and create)."
   ]
  },
  {
   "cell_type": "code",
   "execution_count": 1,
   "metadata": {},
   "outputs": [
    {
     "name": "stdout",
     "output_type": "stream",
     "text": [
      "pub_date\ttitle\tvenue\texcerpt\tcitation\turl_slug\tpaper_url\r",
      "\r\n",
      "10/11/21\tEcological selectivity and the evolution of mammalian substrate preference across the K�Pg boundary\tEcology and Evolution\t\t\"Your Name, You. (2009). \"\"Paper Title Number 1.\"\" <i>Journal 1</i>. 1(1).\"\tHughes_et_al_2021\thttp://jakeberv.github.io/files/papers/Hughes_et_al_2021.pdf"
     ]
    }
   ],
   "source": [
    "!cat publications.tsv"
   ]
  },
  {
   "cell_type": "code",
   "execution_count": 2,
   "metadata": {},
   "outputs": [
    {
     "name": "stdout",
     "output_type": "stream",
     "text": [
      "/opt/homebrew/opt/python@3.10/bin/python3.10\n"
     ]
    }
   ],
   "source": [
    " import sys\n",
    " print(sys.executable) "
   ]
  },
  {
   "cell_type": "code",
   "execution_count": 3,
   "metadata": {},
   "outputs": [
    {
     "name": "stdout",
     "output_type": "stream",
     "text": [
      "Requirement already satisfied: pandas in /opt/homebrew/lib/python3.10/site-packages (1.5.3)\r\n",
      "Requirement already satisfied: python-dateutil>=2.8.1 in /opt/homebrew/lib/python3.10/site-packages (from pandas) (2.8.2)\r\n",
      "Requirement already satisfied: pytz>=2020.1 in /opt/homebrew/lib/python3.10/site-packages (from pandas) (2022.7.1)\r\n",
      "Requirement already satisfied: numpy>=1.21.0 in /opt/homebrew/lib/python3.10/site-packages (from pandas) (1.24.2)\r\n",
      "Requirement already satisfied: six>=1.5 in /opt/homebrew/lib/python3.10/site-packages (from python-dateutil>=2.8.1->pandas) (1.16.0)\r\n"
     ]
    }
   ],
   "source": [
    "! /opt/homebrew/opt/python@3.10/bin/python3.10 -m pip install pandas"
   ]
  },
  {
   "cell_type": "markdown",
   "metadata": {},
   "source": [
    "## Import pandas\n",
    "\n",
    "We are using the very handy pandas library for dataframes."
   ]
  },
  {
   "cell_type": "code",
   "execution_count": 35,
   "metadata": {},
   "outputs": [],
   "source": [
    "import pandas as pd"
   ]
  },
  {
   "cell_type": "code",
   "execution_count": 36,
   "metadata": {},
   "outputs": [
    {
     "ename": "SyntaxError",
     "evalue": "invalid syntax (2199343533.py, line 3)",
     "output_type": "error",
     "traceback": [
      "\u001b[0;36m  Cell \u001b[0;32mIn[36], line 3\u001b[0;36m\u001b[0m\n\u001b[0;31m    Pandas makes this easy with the read_csv function. We are using a TSV, so we specify the separator as a tab, or `\\t`.\u001b[0m\n\u001b[0m           ^\u001b[0m\n\u001b[0;31mSyntaxError\u001b[0m\u001b[0;31m:\u001b[0m invalid syntax\n"
     ]
    }
   ],
   "source": [
    "## Import TSV\n",
    "\n",
    "Pandas makes this easy with the read_csv function. We are using a TSV, so we specify the separator as a tab, or `\\t`.\n",
    "\n",
    "I found it important to put this data in a tab-separated values format, because there are a lot of commas in this kind of data and comma-separated values can get messed up. However, you can modify the import statement, as pandas also has read_excel(), read_json(), and others."
   ]
  },
  {
   "cell_type": "code",
   "execution_count": 39,
   "metadata": {},
   "outputs": [
    {
     "data": {
      "text/html": [
       "<div>\n",
       "<style scoped>\n",
       "    .dataframe tbody tr th:only-of-type {\n",
       "        vertical-align: middle;\n",
       "    }\n",
       "\n",
       "    .dataframe tbody tr th {\n",
       "        vertical-align: top;\n",
       "    }\n",
       "\n",
       "    .dataframe thead th {\n",
       "        text-align: right;\n",
       "    }\n",
       "</style>\n",
       "<table border=\"1\" class=\"dataframe\">\n",
       "  <thead>\n",
       "    <tr style=\"text-align: right;\">\n",
       "      <th></th>\n",
       "      <th>pub_date</th>\n",
       "      <th>title</th>\n",
       "      <th>venue</th>\n",
       "      <th>excerpt</th>\n",
       "      <th>citation</th>\n",
       "      <th>url_slug</th>\n",
       "      <th>paper_url</th>\n",
       "    </tr>\n",
       "  </thead>\n",
       "  <tbody>\n",
       "    <tr>\n",
       "      <th>0</th>\n",
       "      <td>2021-10-11</td>\n",
       "      <td>Ecological selectivity and the evolution of ma...</td>\n",
       "      <td>Ecology and Evolution</td>\n",
       "      <td>NaN</td>\n",
       "      <td>Hughes, J. J., Berv, J. S., Chester, S. G. B.,...</td>\n",
       "      <td>Hughes_et_al_2021</td>\n",
       "      <td>http://jakeberv.github.io/files/papers/Hughes_...</td>\n",
       "    </tr>\n",
       "    <tr>\n",
       "      <th>1</th>\n",
       "      <td>2021-05-18</td>\n",
       "      <td>Genomic phylogeography of the White-crowned Ma...</td>\n",
       "      <td>Molecular Phylogenetics and Evolution</td>\n",
       "      <td>NaN</td>\n",
       "      <td>Berv, J.S., Campagna, L., Feo, T.J., Castro-As...</td>\n",
       "      <td>Berv_et_al_2021</td>\n",
       "      <td>http://jakeberv.github.io/files/papers/Berv_et...</td>\n",
       "    </tr>\n",
       "    <tr>\n",
       "      <th>2</th>\n",
       "      <td>2021-03-08</td>\n",
       "      <td>Recent divergence and lack of shared phylogeog...</td>\n",
       "      <td>Journal of Biogeography</td>\n",
       "      <td>NaN</td>\n",
       "      <td>van Els, P., Zarza, E., Rocha Moreira, L., Gm...</td>\n",
       "      <td>vanEls_et_al_2021</td>\n",
       "      <td>http://jakeberv.github.io/files/papers/vanEls_...</td>\n",
       "    </tr>\n",
       "    <tr>\n",
       "      <th>3</th>\n",
       "      <td>2020-08-21</td>\n",
       "      <td>Timing the Extant Avian Radiation: The Rise of...</td>\n",
       "      <td>Bulletin of the American Museum of Natural His...</td>\n",
       "      <td>NaN</td>\n",
       "      <td>Field, D.J., Berv, J.S., Hsiang, A.Y., Lanfear...</td>\n",
       "      <td>field_et_al_2020</td>\n",
       "      <td>http://jakeberv.github.io/files/papers/Field_e...</td>\n",
       "    </tr>\n",
       "    <tr>\n",
       "      <th>4</th>\n",
       "      <td>2019-09-30</td>\n",
       "      <td>An inverse latitudinal gradient in infection p...</td>\n",
       "      <td>Journal of Animal Ecology</td>\n",
       "      <td>NaN</td>\n",
       "      <td>Fecchio, Alan ... Berv, J.S, et al (author lis...</td>\n",
       "      <td>Fecchio_et_al_2019</td>\n",
       "      <td>http://jakeberv.github.io/files/papers/Fecchio...</td>\n",
       "    </tr>\n",
       "    <tr>\n",
       "      <th>5</th>\n",
       "      <td>2018-05-24</td>\n",
       "      <td>Early Evolution of Modern Birds Structured by ...</td>\n",
       "      <td>Current Biology</td>\n",
       "      <td>NaN</td>\n",
       "      <td>Field, D.J., Bercovici, A., Berv, J.S., Dunn, ...</td>\n",
       "      <td>Field_et_al_2018</td>\n",
       "      <td>http://jakeberv.github.io/files/papers/Field_e...</td>\n",
       "    </tr>\n",
       "    <tr>\n",
       "      <th>6</th>\n",
       "      <td>2018-03-01</td>\n",
       "      <td>Complex coevolution of wing, tail, and vocal s...</td>\n",
       "      <td>Evolution</td>\n",
       "      <td>NaN</td>\n",
       "      <td>Clark, C.J., McGuire, J.A., Bonaccoroso, E., B...</td>\n",
       "      <td>Clark_et_al_2018</td>\n",
       "      <td>http://jakeberv.github.io/files/papers/Clark_e...</td>\n",
       "    </tr>\n",
       "    <tr>\n",
       "      <th>7</th>\n",
       "      <td>2018-01-01</td>\n",
       "      <td>Genomic Signature of an Avian Lilliput Effect ...</td>\n",
       "      <td>Systematic Biology</td>\n",
       "      <td>NaN</td>\n",
       "      <td>Berv, J.S. Field, D. J. (2018). Genomic Signat...</td>\n",
       "      <td>Berv_Field_2018</td>\n",
       "      <td>http://jakeberv.github.io/files/papers/Berv_Fi...</td>\n",
       "    </tr>\n",
       "    <tr>\n",
       "      <th>8</th>\n",
       "      <td>2015-10-07</td>\n",
       "      <td>A comprehensive phylogeny of birds (Aves) usin...</td>\n",
       "      <td>Nature</td>\n",
       "      <td>NaN</td>\n",
       "      <td>Prum, R.O. *, Berv, J.S.*, Dornburg, A., Field...</td>\n",
       "      <td>Prum_Berv_et_al_2015</td>\n",
       "      <td>http://jakeberv.github.io/files/papers/Prum_Be...</td>\n",
       "    </tr>\n",
       "    <tr>\n",
       "      <th>9</th>\n",
       "      <td>2014-12-17</td>\n",
       "      <td>Divergence in morphology, calls, song, mechani...</td>\n",
       "      <td>The Auk: Ornithological Advances</td>\n",
       "      <td>NaN</td>\n",
       "      <td>Feo, T., Musser, J., Berv. J. S., Clark, C. J....</td>\n",
       "      <td>Feo_et_al_2015</td>\n",
       "      <td>http://jakeberv.github.io/files/papers/Feo_et_...</td>\n",
       "    </tr>\n",
       "    <tr>\n",
       "      <th>10</th>\n",
       "      <td>2014-09-16</td>\n",
       "      <td>A comprehensive multilocus phylogeny of the Ne...</td>\n",
       "      <td>Molecular Phylogenetics and Evolution</td>\n",
       "      <td>NaN</td>\n",
       "      <td>Berv, J. S., Prum, R.O. (2014). A comprehensiv...</td>\n",
       "      <td>Berv_Prum_2014</td>\n",
       "      <td>http://jakeberv.github.io/files/papers/Berv_Pr...</td>\n",
       "    </tr>\n",
       "    <tr>\n",
       "      <th>11</th>\n",
       "      <td>2022-10-22</td>\n",
       "      <td>Molecular early burst associated with the dive...</td>\n",
       "      <td>bioRxiv</td>\n",
       "      <td>NaN</td>\n",
       "      <td>Berv, J.S. Singhal, S., Field, Daniel. J., Wal...</td>\n",
       "      <td>Berv_et_al_2022</td>\n",
       "      <td>http://jakeberv.github.io/files/papers/Berv_et...</td>\n",
       "    </tr>\n",
       "    <tr>\n",
       "      <th>12</th>\n",
       "      <td>2022-12-20</td>\n",
       "      <td>CRAN Task View: Phylogenetics</td>\n",
       "      <td>CRAN</td>\n",
       "      <td>NaN</td>\n",
       "      <td>Gearty, W., OÕMeara, B., Berv. J. S., Ballen, ...</td>\n",
       "      <td>Gearty_et_al_2022</td>\n",
       "      <td>https://CRAN.R-project.org/view=Phylogenetics</td>\n",
       "    </tr>\n",
       "  </tbody>\n",
       "</table>\n",
       "</div>"
      ],
      "text/plain": [
       "      pub_date                                              title  \\\n",
       "0   2021-10-11  Ecological selectivity and the evolution of ma...   \n",
       "1   2021-05-18  Genomic phylogeography of the White-crowned Ma...   \n",
       "2   2021-03-08  Recent divergence and lack of shared phylogeog...   \n",
       "3   2020-08-21  Timing the Extant Avian Radiation: The Rise of...   \n",
       "4   2019-09-30  An inverse latitudinal gradient in infection p...   \n",
       "5   2018-05-24  Early Evolution of Modern Birds Structured by ...   \n",
       "6   2018-03-01  Complex coevolution of wing, tail, and vocal s...   \n",
       "7   2018-01-01  Genomic Signature of an Avian Lilliput Effect ...   \n",
       "8   2015-10-07  A comprehensive phylogeny of birds (Aves) usin...   \n",
       "9   2014-12-17  Divergence in morphology, calls, song, mechani...   \n",
       "10  2014-09-16  A comprehensive multilocus phylogeny of the Ne...   \n",
       "11  2022-10-22  Molecular early burst associated with the dive...   \n",
       "12  2022-12-20                      CRAN Task View: Phylogenetics   \n",
       "\n",
       "                                                venue  excerpt  \\\n",
       "0                               Ecology and Evolution      NaN   \n",
       "1               Molecular Phylogenetics and Evolution      NaN   \n",
       "2                             Journal of Biogeography      NaN   \n",
       "3   Bulletin of the American Museum of Natural His...      NaN   \n",
       "4                           Journal of Animal Ecology      NaN   \n",
       "5                                     Current Biology      NaN   \n",
       "6                                           Evolution      NaN   \n",
       "7                                  Systematic Biology      NaN   \n",
       "8                                              Nature      NaN   \n",
       "9                    The Auk: Ornithological Advances      NaN   \n",
       "10              Molecular Phylogenetics and Evolution      NaN   \n",
       "11                                            bioRxiv      NaN   \n",
       "12                                               CRAN      NaN   \n",
       "\n",
       "                                             citation              url_slug  \\\n",
       "0   Hughes, J. J., Berv, J. S., Chester, S. G. B.,...     Hughes_et_al_2021   \n",
       "1   Berv, J.S., Campagna, L., Feo, T.J., Castro-As...       Berv_et_al_2021   \n",
       "2   van Els, P., Zarza, E., Rocha Moreira, L., Gm...     vanEls_et_al_2021   \n",
       "3   Field, D.J., Berv, J.S., Hsiang, A.Y., Lanfear...      field_et_al_2020   \n",
       "4   Fecchio, Alan ... Berv, J.S, et al (author lis...    Fecchio_et_al_2019   \n",
       "5   Field, D.J., Bercovici, A., Berv, J.S., Dunn, ...      Field_et_al_2018   \n",
       "6   Clark, C.J., McGuire, J.A., Bonaccoroso, E., B...      Clark_et_al_2018   \n",
       "7   Berv, J.S. Field, D. J. (2018). Genomic Signat...       Berv_Field_2018   \n",
       "8   Prum, R.O. *, Berv, J.S.*, Dornburg, A., Field...  Prum_Berv_et_al_2015   \n",
       "9   Feo, T., Musser, J., Berv. J. S., Clark, C. J....        Feo_et_al_2015   \n",
       "10  Berv, J. S., Prum, R.O. (2014). A comprehensiv...        Berv_Prum_2014   \n",
       "11  Berv, J.S. Singhal, S., Field, Daniel. J., Wal...       Berv_et_al_2022   \n",
       "12  Gearty, W., OÕMeara, B., Berv. J. S., Ballen, ...     Gearty_et_al_2022   \n",
       "\n",
       "                                            paper_url  \n",
       "0   http://jakeberv.github.io/files/papers/Hughes_...  \n",
       "1   http://jakeberv.github.io/files/papers/Berv_et...  \n",
       "2   http://jakeberv.github.io/files/papers/vanEls_...  \n",
       "3   http://jakeberv.github.io/files/papers/Field_e...  \n",
       "4   http://jakeberv.github.io/files/papers/Fecchio...  \n",
       "5   http://jakeberv.github.io/files/papers/Field_e...  \n",
       "6   http://jakeberv.github.io/files/papers/Clark_e...  \n",
       "7   http://jakeberv.github.io/files/papers/Berv_Fi...  \n",
       "8   http://jakeberv.github.io/files/papers/Prum_Be...  \n",
       "9   http://jakeberv.github.io/files/papers/Feo_et_...  \n",
       "10  http://jakeberv.github.io/files/papers/Berv_Pr...  \n",
       "11  http://jakeberv.github.io/files/papers/Berv_et...  \n",
       "12      https://CRAN.R-project.org/view=Phylogenetics  "
      ]
     },
     "execution_count": 39,
     "metadata": {},
     "output_type": "execute_result"
    }
   ],
   "source": [
    "publications = pd.read_csv(\"publications.txt\", sep=\"\\t\", header=0, encoding='latin1')\n",
    "#publications = pd.read_excel(\"publications.xlsx\")\n",
    "publications\n"
   ]
  },
  {
   "cell_type": "markdown",
   "metadata": {},
   "source": [
    "## Escape special characters\n",
    "\n",
    "YAML is very picky about how it takes a valid string, so we are replacing single and double quotes (and ampersands) with their HTML encoded equivilents. This makes them look not so readable in raw format, but they are parsed and rendered nicely."
   ]
  },
  {
   "cell_type": "code",
   "execution_count": 40,
   "metadata": {},
   "outputs": [],
   "source": [
    "html_escape_table = {\n",
    "    \"&\": \"&amp;\",\n",
    "    '\"': \"&quot;\",\n",
    "    \"'\": \"&apos;\"\n",
    "    }\n",
    "\n",
    "def html_escape(text):\n",
    "    \"\"\"Produce entities within text.\"\"\"\n",
    "    return \"\".join(html_escape_table.get(c,c) for c in text)"
   ]
  },
  {
   "cell_type": "markdown",
   "metadata": {},
   "source": [
    "## Creating the markdown files\n",
    "\n",
    "This is where the heavy lifting is done. This loops through all the rows in the TSV dataframe, then starts to concatentate a big string (```md```) that contains the markdown for each type. It does the YAML metadata first, then does the description for the individual page."
   ]
  },
  {
   "cell_type": "code",
   "execution_count": 41,
   "metadata": {},
   "outputs": [],
   "source": [
    "import os\n",
    "for row, item in publications.iterrows():\n",
    "    \n",
    "    md_filename = str(item.pub_date) + \"-\" + item.url_slug + \".md\"\n",
    "    html_filename = str(item.pub_date) + \"-\" + item.url_slug\n",
    "    year = item.pub_date[:4]\n",
    "    \n",
    "    ## YAML variables\n",
    "    \n",
    "    md = \"---\\ntitle: \\\"\"   + item.title + '\"\\n'\n",
    "    \n",
    "    md += \"\"\"collection: publications\"\"\"\n",
    "    \n",
    "    md += \"\"\"\\npermalink: /publication/\"\"\" + html_filename\n",
    "    \n",
    "    if len(str(item.excerpt)) > 5:\n",
    "        md += \"\\nexcerpt: '\" + html_escape(item.excerpt) + \"'\"\n",
    "    \n",
    "    md += \"\\ndate: \" + str(item.pub_date) \n",
    "    \n",
    "    md += \"\\nvenue: '\" + html_escape(item.venue) + \"'\"\n",
    "    \n",
    "    if len(str(item.paper_url)) > 5:\n",
    "        md += \"\\npaperurl: '\" + item.paper_url + \"'\"\n",
    "    \n",
    "    md += \"\\ncitation: '\" + html_escape(item.citation) + \"'\"\n",
    "    \n",
    "    md += \"\\n---\"\n",
    "    \n",
    "    ## Markdown description for individual page\n",
    "        \n",
    "    if len(str(item.excerpt)) > 5:\n",
    "        md += \"\\n\" + html_escape(item.excerpt) + \"\\n\"\n",
    "    \n",
    "    if len(str(item.paper_url)) > 5:\n",
    "        md += \"\\n[Download paper here](\" + item.paper_url + \")\\n\" \n",
    "        \n",
    "    md += \"\\nRecommended citation: \" + item.citation\n",
    "    \n",
    "    md_filename = os.path.basename(md_filename)\n",
    "       \n",
    "    with open(\"../_publications/\" + md_filename, 'w') as f:\n",
    "        f.write(md)"
   ]
  },
  {
   "cell_type": "markdown",
   "metadata": {},
   "source": [
    "These files are in the publications directory, one directory below where we're working from."
   ]
  },
  {
   "cell_type": "code",
   "execution_count": 42,
   "metadata": {},
   "outputs": [
    {
     "name": "stdout",
     "output_type": "stream",
     "text": [
      "2014-09-16-Berv_Prum_2014.md       2020-08-21-field_et_al_2020.md\r\n",
      "2014-12-17-Feo_et_al_2015.md       2021-03-08-vanEls_et_al_2021.md\r\n",
      "2015-10-07-Prum_Berv_et_al_2015.md 2021-05-18-Berv_et_al_2021.md\r\n",
      "2018-01-01-Berv_Field_2018.md      2021-10-11-Hughes_et_al_2021.md\r\n",
      "2018-03-01-Clark_et_al_2018.md     2022-10-22-Berv_et_al_2022.md\r\n",
      "2018-05-24-Field_et_al_2018.md     2022-12-20-Gearty_et_al_2022.md\r\n",
      "2019-09-30-Fecchio_et_al_2019.md\r\n"
     ]
    }
   ],
   "source": [
    "!ls ../_publications/"
   ]
  },
  {
   "cell_type": "code",
   "execution_count": 16,
   "metadata": {},
   "outputs": [
    {
     "name": "stdout",
     "output_type": "stream",
     "text": [
      "cat: ../_publications/2009-10-01-paper-title-number-1.md: No such file or directory\r\n"
     ]
    }
   ],
   "source": [
    "!cat ../_publications/2009-10-01-paper-title-number-1.md"
   ]
  },
  {
   "cell_type": "code",
   "execution_count": null,
   "metadata": {},
   "outputs": [],
   "source": []
  },
  {
   "cell_type": "code",
   "execution_count": null,
   "metadata": {},
   "outputs": [],
   "source": []
  }
 ],
 "metadata": {
  "kernelspec": {
   "display_name": "Python 3 (ipykernel)",
   "language": "python",
   "name": "python3"
  },
  "language_info": {
   "codemirror_mode": {
    "name": "ipython",
    "version": 3
   },
   "file_extension": ".py",
   "mimetype": "text/x-python",
   "name": "python",
   "nbconvert_exporter": "python",
   "pygments_lexer": "ipython3",
   "version": "3.10.9"
  }
 },
 "nbformat": 4,
 "nbformat_minor": 1
}
